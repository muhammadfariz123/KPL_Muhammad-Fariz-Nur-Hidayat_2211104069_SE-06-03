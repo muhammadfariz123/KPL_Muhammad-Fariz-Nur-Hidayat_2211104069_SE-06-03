{
  "cells": [
    {
      "cell_type": "code",
      "execution_count": 1,
      "metadata": {
        "colab": {
          "base_uri": "https://localhost:8080/"
        },
        "id": "j-UcT4BIvBIC",
        "outputId": "f804d8db-9ff4-4c76-dac6-7a7185a1ff10"
      },
      "outputs": [
        {
          "name": "stdout",
          "output_type": "stream",
          "text": [
            "Collecting fastapi\n",
            "  Downloading fastapi-0.115.12-py3-none-any.whl.metadata (27 kB)\n",
            "Collecting uvicorn\n",
            "  Downloading uvicorn-0.34.2-py3-none-any.whl.metadata (6.5 kB)\n",
            "Requirement already satisfied: nest-asyncio in /usr/local/lib/python3.11/dist-packages (1.6.0)\n",
            "Collecting pyngrok\n",
            "  Downloading pyngrok-7.2.8-py3-none-any.whl.metadata (10 kB)\n",
            "Collecting starlette<0.47.0,>=0.40.0 (from fastapi)\n",
            "  Downloading starlette-0.46.2-py3-none-any.whl.metadata (6.2 kB)\n",
            "Requirement already satisfied: pydantic!=1.8,!=1.8.1,!=2.0.0,!=2.0.1,!=2.1.0,<3.0.0,>=1.7.4 in /usr/local/lib/python3.11/dist-packages (from fastapi) (2.11.4)\n",
            "Requirement already satisfied: typing-extensions>=4.8.0 in /usr/local/lib/python3.11/dist-packages (from fastapi) (4.13.2)\n",
            "Requirement already satisfied: click>=7.0 in /usr/local/lib/python3.11/dist-packages (from uvicorn) (8.1.8)\n",
            "Requirement already satisfied: h11>=0.8 in /usr/local/lib/python3.11/dist-packages (from uvicorn) (0.16.0)\n",
            "Requirement already satisfied: PyYAML>=5.1 in /usr/local/lib/python3.11/dist-packages (from pyngrok) (6.0.2)\n",
            "Requirement already satisfied: annotated-types>=0.6.0 in /usr/local/lib/python3.11/dist-packages (from pydantic!=1.8,!=1.8.1,!=2.0.0,!=2.0.1,!=2.1.0,<3.0.0,>=1.7.4->fastapi) (0.7.0)\n",
            "Requirement already satisfied: pydantic-core==2.33.2 in /usr/local/lib/python3.11/dist-packages (from pydantic!=1.8,!=1.8.1,!=2.0.0,!=2.0.1,!=2.1.0,<3.0.0,>=1.7.4->fastapi) (2.33.2)\n",
            "Requirement already satisfied: typing-inspection>=0.4.0 in /usr/local/lib/python3.11/dist-packages (from pydantic!=1.8,!=1.8.1,!=2.0.0,!=2.0.1,!=2.1.0,<3.0.0,>=1.7.4->fastapi) (0.4.0)\n",
            "Requirement already satisfied: anyio<5,>=3.6.2 in /usr/local/lib/python3.11/dist-packages (from starlette<0.47.0,>=0.40.0->fastapi) (4.9.0)\n",
            "Requirement already satisfied: idna>=2.8 in /usr/local/lib/python3.11/dist-packages (from anyio<5,>=3.6.2->starlette<0.47.0,>=0.40.0->fastapi) (3.10)\n",
            "Requirement already satisfied: sniffio>=1.1 in /usr/local/lib/python3.11/dist-packages (from anyio<5,>=3.6.2->starlette<0.47.0,>=0.40.0->fastapi) (1.3.1)\n",
            "Downloading fastapi-0.115.12-py3-none-any.whl (95 kB)\n",
            "\u001b[2K   \u001b[90m━━━━━━━━━━━━━━━━━━━━━━━━━━━━━━━━━━━━━━━━\u001b[0m \u001b[32m95.2/95.2 kB\u001b[0m \u001b[31m4.2 MB/s\u001b[0m eta \u001b[36m0:00:00\u001b[0m\n",
            "\u001b[?25hDownloading uvicorn-0.34.2-py3-none-any.whl (62 kB)\n",
            "\u001b[2K   \u001b[90m━━━━━━━━━━━━━━━━━━━━━━━━━━━━━━━━━━━━━━━━\u001b[0m \u001b[32m62.5/62.5 kB\u001b[0m \u001b[31m3.0 MB/s\u001b[0m eta \u001b[36m0:00:00\u001b[0m\n",
            "\u001b[?25hDownloading pyngrok-7.2.8-py3-none-any.whl (25 kB)\n",
            "Downloading starlette-0.46.2-py3-none-any.whl (72 kB)\n",
            "\u001b[2K   \u001b[90m━━━━━━━━━━━━━━━━━━━━━━━━━━━━━━━━━━━━━━━━\u001b[0m \u001b[32m72.0/72.0 kB\u001b[0m \u001b[31m2.6 MB/s\u001b[0m eta \u001b[36m0:00:00\u001b[0m\n",
            "\u001b[?25hInstalling collected packages: uvicorn, pyngrok, starlette, fastapi\n",
            "Successfully installed fastapi-0.115.12 pyngrok-7.2.8 starlette-0.46.2 uvicorn-0.34.2\n"
          ]
        }
      ],
      "source": [
        "!pip install fastapi uvicorn nest-asyncio pyngrok"
      ]
    },
    {
      "cell_type": "code",
      "execution_count": null,
      "metadata": {
        "colab": {
          "base_uri": "https://localhost:8080/"
        },
        "id": "r8n2mhFxvdlC",
        "outputId": "e5923636-9b5b-4fdd-a5d0-5ed22d9eb648"
      },
      "outputs": [
        {
          "name": "stdout",
          "output_type": "stream",
          "text": []
        },
        {
          "name": "stderr",
          "output_type": "stream",
          "text": [
            "INFO:     Started server process [257]\n",
            "INFO:     Waiting for application startup.\n",
            "INFO:     Application startup complete.\n",
            "INFO:     Uvicorn running on http://127.0.0.1:8000 (Press CTRL+C to quit)\n"
          ]
        },
        {
          "name": "stdout",
          "output_type": "stream",
          "text": [
            "🚀 Swagger UI: https://6b6a-34-168-242-26.ngrok-free.app/docs\n",
            "🚀 API URL: https://6b6a-34-168-242-26.ngrok-free.app\n",
            "INFO:     125.160.108.184:0 - \"GET /docs HTTP/1.1\" 200 OK\n",
            "INFO:     125.160.108.184:0 - \"GET /openapi.json HTTP/1.1\" 200 OK\n",
            "INFO:     125.160.108.184:0 - \"GET /api/Mahasiswa HTTP/1.1\" 200 OK\n",
            "INFO:     125.160.108.184:0 - \"POST /api/Mahasiswa HTTP/1.1\" 200 OK\n"
          ]
        },
        {
          "name": "stderr",
          "output_type": "stream",
          "text": [
            "<ipython-input-2-5ec0a64d9d99>:40: PydanticDeprecatedSince20: The `dict` method is deprecated; use `model_dump` instead. Deprecated in Pydantic V2.0 to be removed in V3.0. See Pydantic V2 Migration Guide at https://errors.pydantic.dev/2.11/migration/\n",
            "  mahasiswa_list.append(mahasiswa.dict())\n"
          ]
        },
        {
          "name": "stdout",
          "output_type": "stream",
          "text": [
            "INFO:     125.160.108.184:0 - \"POST /api/Mahasiswa HTTP/1.1\" 200 OK\n",
            "INFO:     125.160.108.184:0 - \"POST /api/Mahasiswa HTTP/1.1\" 200 OK\n",
            "INFO:     125.160.108.184:0 - \"GET /api/Mahasiswa HTTP/1.1\" 200 OK\n"
          ]
        }
      ],
      "source": [
        "# Import library\n",
        "from fastapi import FastAPI\n",
        "from pydantic import BaseModel\n",
        "import nest_asyncio\n",
        "from pyngrok import ngrok, conf\n",
        "import uvicorn\n",
        "\n",
        "# Inisialisasi FastAPI\n",
        "app = FastAPI()\n",
        "\n",
        "# Konfigurasi ngrok (ganti token dengan punyamu)\n",
        "conf.get_default().auth_token = \"2wD8Dplq5Mh3gc6IWDJTXDUqcOM_6XgsrMkhiNtG6GF1wQeJW\"\n",
        "\n",
        "# MODELS\n",
        "class Mahasiswa(BaseModel):\n",
        "    nama: str\n",
        "    nim: str\n",
        "\n",
        "# DATA MAHASISWA - isi sesuai anggota kelompok (nama kamu paling atas)\n",
        "mahasiswa_list = [\n",
        "    {\"nama\": \"Muhammad Fariz Nur Hidayat\", \"nim\": \"2211104069\"},\n",
        "    {\"nama\": \"LeBron James\", \"nim\": \"1302000001\"},\n",
        "    {\"nama\": \"Stephen Curry\", \"nim\": \"1302000002\"},\n",
        "    {\"nama\": \"Kobe Bryant\", \"nim\": \"1302000003\"},\n",
        "]\n",
        "\n",
        "# ENDPOINTS\n",
        "@app.get(\"/api/Mahasiswa\")\n",
        "def get_semua_mahasiswa():\n",
        "    return mahasiswa_list\n",
        "\n",
        "@app.get(\"/api/Mahasiswa/{index}\")\n",
        "def get_mahasiswa(index: int):\n",
        "    if 0 <= index < len(mahasiswa_list):\n",
        "        return mahasiswa_list[index]\n",
        "    return {\"error\": \"Index tidak ditemukan\"}\n",
        "\n",
        "@app.post(\"/api/Mahasiswa\")\n",
        "def tambah_mahasiswa(mahasiswa: Mahasiswa):\n",
        "    mahasiswa_list.append(mahasiswa.dict())\n",
        "    return {\"pesan\": \"Mahasiswa berhasil ditambahkan\"}\n",
        "\n",
        "@app.delete(\"/api/Mahasiswa/{index}\")\n",
        "def hapus_mahasiswa(index: int):\n",
        "    if 0 <= index < len(mahasiswa_list):\n",
        "        deleted = mahasiswa_list.pop(index)\n",
        "        return {\"pesan\": \"Mahasiswa berhasil dihapus\", \"data\": deleted}\n",
        "    return {\"error\": \"Index tidak ditemukan\"}\n",
        "\n",
        "# Jalankan server\n",
        "nest_asyncio.apply()\n",
        "public_url = ngrok.connect(8000)\n",
        "print(\"🚀 Swagger UI:\", public_url.public_url + \"/docs\")\n",
        "print(\"🚀 API URL:\", public_url.public_url)\n",
        "\n",
        "uvicorn.run(app, port=8000)"
      ]
    }
  ],
  "metadata": {
    "colab": {
      "provenance": []
    },
    "kernelspec": {
      "display_name": "Python 3",
      "name": "python3"
    },
    "language_info": {
      "name": "python"
    }
  },
  "nbformat": 4,
  "nbformat_minor": 0
}
